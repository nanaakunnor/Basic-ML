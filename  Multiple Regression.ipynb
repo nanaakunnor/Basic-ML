{
 "cells": [
  {
   "cell_type": "code",
   "execution_count": 1,
   "metadata": {},
   "outputs": [],
   "source": [
    "import numpy as np\n",
    "import matplotlib.pyplot as plt\n",
    "from matplotlib import rcParams\n",
    "rcParams['figure.figsize'] = (14, 7)\n",
    "rcParams['axes.spines.top'] = False\n",
    "rcParams['axes.spines.right'] = False"
   ]
  },
  {
   "cell_type": "code",
   "execution_count": 2,
   "metadata": {},
   "outputs": [],
   "source": [
    "class LinearRegression:\n",
    "    '''\n",
    "    A class which implements linear regression model with gradient descent.\n",
    "    '''\n",
    "def __init__(self, learning_rate=0.01, n_iterations=10000):\n",
    "    self.learning_rate = learning_rate\n",
    "    self.n_iterations = n_iterations\n",
    "    self.weights, self.bias = None, None\n",
    "    self.loss = []\n",
    "    \n",
    "@staticmethod\n",
    "def _mean_squared_error(y, y_hat):\n",
    "    '''\n",
    "    Private method, used to evaluate loss at each iteration.\n",
    "   :param: y - array, true values\n",
    "   :param: y_hat - array, predicted values\n",
    "   :return: float\n",
    "   '''\n",
    "    error = 0\n",
    "    for i in range(len(y)):\n",
    "        error += (y[i] - y_hat[i]) ** 2\n",
    "    return error / len(y)\n",
    "def fit(self, X, y):\n",
    "    '''\n",
    "    Used to calculate the coefficient of the linear regression model.\n",
    "    :param X: array, features\n",
    "    :param y: array, true values\n",
    "    :return: None\n",
    "    '''\n",
    " # 1. Initialize weights and bias to zeros\n",
    "    self.weights = np.zeros(X.shape[1])\n",
    "    self.bias = 0\n",
    "\n",
    "# 2. Perform gradient descent\n",
    "    for i in range(self.n_iterations):\n",
    "       # Line equation\n",
    "        y_hat = np.dot(X, self.weights) + self.bias\n",
    "        loss = self._mean_squared_error(y, y_hat)\n",
    "        self.loss.append(loss)\n",
    "# Calculate derivatives\n",
    "        partial_w = (1 / X.shape[0]) * (2 * np.dot(X.T, (y_hat - y)))\n",
    "        partial_d = (1 / X.shape[0]) * (2 * np.sum(y_hat - y))\n",
    "# Update the coefficients\n",
    "        self.weights -= self.learning_rate * partial_w\n",
    "        self.bias -= self.learning_rate * partial_d\n",
    "        \n",
    "def predict(self, X):\n",
    "    '''\n",
    "    Makes predictions using the line equation.\n",
    "    :param X: array, features\n",
    "    :return: array, predictions\n",
    "    '''\n",
    "    return np.dot(X, self.weights) + self.bias       "
   ]
  },
  {
   "cell_type": "code",
   "execution_count": 3,
   "metadata": {},
   "outputs": [],
   "source": [
    "from sklearn.datasets import load_diabetes\n",
    "data = load_diabetes()\n",
    "X = data.data\n",
    "y = data.target"
   ]
  },
  {
   "cell_type": "code",
   "execution_count": 4,
   "metadata": {},
   "outputs": [],
   "source": [
    "from sklearn.linear_model import LinearRegression"
   ]
  },
  {
   "cell_type": "code",
   "execution_count": 5,
   "metadata": {},
   "outputs": [],
   "source": [
    "from sklearn.model_selection import train_test_split\n",
    "X_train, X_test, y_train, y_test = train_test_split(X, y, test_size=0.2, random_state=42)\n"
   ]
  },
  {
   "cell_type": "code",
   "execution_count": 6,
   "metadata": {},
   "outputs": [],
   "source": [
    "model = LinearRegression()\n",
    "model.fit(X_train, y_train)\n",
    "preds = model.predict(X_test)"
   ]
  },
  {
   "cell_type": "code",
   "execution_count": 26,
   "metadata": {},
   "outputs": [
    {
     "ename": "AttributeError",
     "evalue": "'LinearRegression' object has no attribute 'weights'",
     "output_type": "error",
     "traceback": [
      "\u001b[1;31m---------------------------------------------------------------------------\u001b[0m",
      "\u001b[1;31mAttributeError\u001b[0m                            Traceback (most recent call last)",
      "\u001b[1;32m<ipython-input-26-dd9f7a7f3f1d>\u001b[0m in \u001b[0;36m<module>\u001b[1;34m\u001b[0m\n\u001b[1;32m----> 1\u001b[1;33m \u001b[0mmodel\u001b[0m\u001b[1;33m.\u001b[0m\u001b[0mweights\u001b[0m\u001b[1;33m\u001b[0m\u001b[1;33m\u001b[0m\u001b[0m\n\u001b[0m",
      "\u001b[1;31mAttributeError\u001b[0m: 'LinearRegression' object has no attribute 'weights'"
     ]
    }
   ],
   "source": [
    "model.weights"
   ]
  },
  {
   "cell_type": "code",
   "execution_count": 8,
   "metadata": {},
   "outputs": [],
   "source": [
    "model.bias"
   ]
  },
  {
   "cell_type": "code",
   "execution_count": 22,
   "metadata": {},
   "outputs": [],
   "source": [
    "#losses = {}\n",
    "#for lr in [0.5, 0.1, 0.01, 0.001]:\n",
    "#    model = LinearRegression(learning_rate=lr)\n",
    "#    model.fit(X_train, y_train)\n",
    "#losses[f'LR={str(lr)}'] = model.loss\n"
   ]
  },
  {
   "cell_type": "code",
   "execution_count": 25,
   "metadata": {},
   "outputs": [],
   "source": [
    "#xs = np.arange(len(model.loss))\n",
    "#ys = model.loss\n",
    "\n",
    "#plt.plot(xs, ys, lw=3, c='#087E8B')\n",
    "#plt.title('Loss per iteration (MSE)', size=20)\n",
    "#plt.xlabel('Iteration', size=14)\n",
    "#plt.ylabel('Loss', size=14)\n",
    "#plt.savefig('images/002_LinearRegression_loss1.png', dpi=300, bbox_inches='tight')\n",
    "#plt.show()"
   ]
  },
  {
   "cell_type": "code",
   "execution_count": 24,
   "metadata": {},
   "outputs": [],
   "source": [
    "#xs = np.arange(len(model.loss))\n",
    "\n",
    "#plt.plot(xs, losses['LR=0.5'], lw=3, label=f\"LR = 0.5, Final = {losses['LR=0.5'][-1]:.2f}\")\n",
    "#plt.plot(xs, losses['LR=0.1'], lw=3, label=f\"LR = 0.1, Final = {losses['LR=0.1'][-1]:.2f}\")\n",
    "#plt.plot(xs, losses['LR=0.01'], lw=3, label=f\"LR = 0.01, Final = {losses['LR=0.01'][-1]:.2f}\")\n",
    "#plt.plot(xs, losses['LR=0.001'], lw=3, label=f\"LR = 0.001, Final = {losses['LR=0.001'][-1]:.2f}\")\n",
    "#plt.title('Loss per iteration (MSE) for different learning rates', size=20)\n",
    "#plt.xlabel('Iteration', size=14)\n",
    "##plt.ylabel('Loss', size=14)\n",
    "##plt.legend()\n",
    "#plt.savefig('images/002_LinearRegression_loss2.png', dpi=300, bbox_inches='tight')\n",
    "#plt.show()\n"
   ]
  },
  {
   "cell_type": "code",
   "execution_count": 23,
   "metadata": {},
   "outputs": [],
   "source": [
    "##model = LinearRegression(learning_rate=0.5)\n",
    "#model.fit(X_train, y_train)\n",
    "#preds = model.predict(X_test)\n",
    "#model._mean_squared_error(y_test, preds)"
   ]
  },
  {
   "cell_type": "code",
   "execution_count": 21,
   "metadata": {},
   "outputs": [
    {
     "data": {
      "text/plain": [
       "2900.1732878832313"
      ]
     },
     "execution_count": 21,
     "metadata": {},
     "output_type": "execute_result"
    }
   ],
   "source": [
    "from sklearn.linear_model import LinearRegression\n",
    "from sklearn.metrics import mean_squared_error\n",
    "lr_model = LinearRegression()\n",
    "lr_model.fit(X_train, y_train)\n",
    "lr_preds = lr_model.predict(X_test)\n",
    "mean_squared_error(y_test, lr_preds)\n"
   ]
  },
  {
   "cell_type": "code",
   "execution_count": null,
   "metadata": {},
   "outputs": [],
   "source": []
  },
  {
   "cell_type": "code",
   "execution_count": null,
   "metadata": {},
   "outputs": [],
   "source": []
  },
  {
   "cell_type": "code",
   "execution_count": null,
   "metadata": {},
   "outputs": [],
   "source": []
  },
  {
   "cell_type": "code",
   "execution_count": null,
   "metadata": {},
   "outputs": [],
   "source": []
  },
  {
   "cell_type": "code",
   "execution_count": null,
   "metadata": {},
   "outputs": [],
   "source": []
  },
  {
   "cell_type": "code",
   "execution_count": null,
   "metadata": {},
   "outputs": [],
   "source": []
  },
  {
   "cell_type": "code",
   "execution_count": null,
   "metadata": {},
   "outputs": [],
   "source": []
  },
  {
   "cell_type": "code",
   "execution_count": null,
   "metadata": {},
   "outputs": [],
   "source": []
  },
  {
   "cell_type": "code",
   "execution_count": null,
   "metadata": {},
   "outputs": [],
   "source": []
  },
  {
   "cell_type": "code",
   "execution_count": null,
   "metadata": {},
   "outputs": [],
   "source": []
  }
 ],
 "metadata": {
  "kernelspec": {
   "display_name": "Python 3",
   "language": "python",
   "name": "python3"
  },
  "language_info": {
   "codemirror_mode": {
    "name": "ipython",
    "version": 3
   },
   "file_extension": ".py",
   "mimetype": "text/x-python",
   "name": "python",
   "nbconvert_exporter": "python",
   "pygments_lexer": "ipython3",
   "version": "3.8.5"
  }
 },
 "nbformat": 4,
 "nbformat_minor": 4
}
