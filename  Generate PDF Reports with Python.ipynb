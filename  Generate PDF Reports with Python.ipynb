{
 "cells": [
  {
   "cell_type": "code",
   "execution_count": 1,
   "metadata": {},
   "outputs": [],
   "source": [
    "import os\n",
    "import shutil\n",
    "import numpy as np\n",
    "import pandas as pd\n",
    "import calendar\n",
    "from datetime import datetime\n",
    "from fpdf import FPDF\n",
    "import matplotlib.pyplot as plt\n",
    "from matplotlib import rcParams\n",
    "rcParams['axes.spines.top'] = False\n",
    "rcParams['axes.spines.right'] = False"
   ]
  },
  {
   "cell_type": "code",
   "execution_count": 2,
   "metadata": {},
   "outputs": [],
   "source": [
    "def generate_sales_data(month: int) -> pd.DataFrame:\n",
    "    # Date range from first day of month until last\n",
    "    # Use ```calendar.monthrange(year, month)``` to get the last date\n",
    "    dates = pd.date_range(\n",
    "        start=datetime(year=2020, month=month, day=1),\n",
    "        end=datetime(year=2020, month=month, day=calendar.monthrange(2020, month)[1])\n",
    "    )\n",
    "    \n",
    "    # Sales numbers as a random integer between 1000 and 2000\n",
    "    sales = np.random.randint(low=1000, high=2000, size=len(dates))\n",
    "    \n",
    "    # Combine into a single dataframe\n",
    "    return pd.DataFrame({\n",
    "    'Date': dates,\n",
    "    'ItemsSold': sales\n",
    "    })\n"
   ]
  },
  {
   "cell_type": "code",
   "execution_count": 3,
   "metadata": {},
   "outputs": [],
   "source": [
    "def plot(data: pd.DataFrame, filename: str) -> None:\n",
    "    plt.figure(figsize=(12, 4))\n",
    "    plt.grid(color='#F2F2F2', alpha=1, zorder=0)\n",
    "    plt.plot(data['Date'], data['ItemsSold'], color='#087E8B', lw=3, zorder=5)\n",
    "    plt.title(f'Sales 2020/{data[\"Date\"].dt.month[0]}', fontsize=17)\n",
    "    plt.xlabel('Period', fontsize=13)\n",
    "    plt.xticks(fontsize=9)\n",
    "    plt.ylabel('Number of items sold', fontsize=13)\n",
    "    plt.yticks(fontsize=9)\n",
    "    plt.savefig(filename, dpi=300, bbox_inches='tight', pad_inches=0)\n",
    "    plt.close()\n",
    "    return\n"
   ]
  },
  {
   "cell_type": "code",
   "execution_count": 4,
   "metadata": {},
   "outputs": [],
   "source": [
    "december = generate_sales_data(month=12)\n",
    "plot(data=december, filename='december.png')"
   ]
  },
  {
   "cell_type": "code",
   "execution_count": 5,
   "metadata": {},
   "outputs": [],
   "source": [
    "PLOT_DIR = 'plots'\n",
    "def construct():\n",
    "    # Delete folder if exists and create it again\n",
    "    try:\n",
    "        shutil.rmtree(PLOT_DIR)\n",
    "        os.mkdir(PLOT_DIR)\n",
    "    except FileNotFoundError:\n",
    "        os.mkdir(PLOT_DIR)\n",
    "        \n",
    "    # Iterate over all months in 2020 except January\n",
    "    for i in range(2, 13):\n",
    "        # Save visualization\n",
    "        plot(data=generate_sales_data(month=i), filename=f'{PLOT_DIR}/{i}.png')\n",
    "        # Construct data shown in document\n",
    "        counter = 0\n",
    "        pages_data = []\n",
    "        temp = []\n",
    "        # Get all plots\n",
    "        files = os.listdir(PLOT_DIR)\n",
    "        # Sort them by month - a bit tricky because the file names are strings\n",
    "        files = sorted(os.listdir(PLOT_DIR), key=lambda x: int(x.split('.')[0]))\n",
    "        # Iterate over all created visualization\n",
    "        for fname in files:\n",
    "            # We want 3 per page\n",
    "            if counter == 3:\n",
    "                pages_data.append(temp)\n",
    "                temp = []\n",
    "                counter = 0\n",
    "                \n",
    "            temp.append(f'{PLOT_DIR}/{fname}')\n",
    "            counter += 1\n",
    "        return [*pages_data, temp]\n"
   ]
  },
  {
   "cell_type": "code",
   "execution_count": 6,
   "metadata": {},
   "outputs": [],
   "source": [
    "plots_per_page = construct()"
   ]
  },
  {
   "cell_type": "code",
   "execution_count": 7,
   "metadata": {},
   "outputs": [
    {
     "data": {
      "text/plain": [
       "[['plots/2.png']]"
      ]
     },
     "execution_count": 7,
     "metadata": {},
     "output_type": "execute_result"
    }
   ],
   "source": [
    "plots_per_page"
   ]
  },
  {
   "cell_type": "code",
   "execution_count": 8,
   "metadata": {},
   "outputs": [],
   "source": [
    "class PDF(FPDF):\n",
    "    def __init__(self):\n",
    "        super().__init__()\n",
    "        self.WIDTH = 210\n",
    "        self.HEIGHT = 297\n",
    "    def header(self):\n",
    "        # Custom logo and positioning\n",
    "        # Create an `assets` folder and put any wide and short image inside\n",
    "        # Name the image `logo.png`\n",
    "        self.image('logo.png', 10, 8, 33)\n",
    "        self.set_font('Arial', 'B', 11)\n",
    "        self.cell(self.WIDTH - 80)\n",
    "        self.cell(60, 1, 'Sales report', 0, 0, 'R')\n",
    "        self.ln(20)\n",
    "    def footer(self):\n",
    "        # Page numbers in the footer\n",
    "        self.set_y(-15)\n",
    "        self.set_font('Arial', 'I', 8)\n",
    "        self.set_text_color(128)\n",
    "        self.cell(0, 10, 'Page ' + str(self.page_no()), 0, 0, 'C')\n",
    "    def page_body(self, images):\n",
    "        # Determine how many plots there are per page and set positions\n",
    "        # and margins accordingly\n",
    "        if len(images) == 3:\n",
    "            self.image(images[0], 15, 25, self.WIDTH - 30)\n",
    "            self.image(images[1], 15, self.WIDTH / 2 + 5, self.WIDTH - 30)\n",
    "            self.image(images[2], 15, self.WIDTH / 2 + 90, self.WIDTH - 30)\n",
    "        elif len(images) == 2:\n",
    "            self.image(images[0], 15, 25, self.WIDTH - 30)\n",
    "            self.image(images[1], 15, self.WIDTH / 2 + 5, self.WIDTH - 30)\n",
    "        else:\n",
    "            self.image(images[0], 15, 25, self.WIDTH - 30)\n",
    "            \n",
    "    def print_page(self, images):\n",
    "        # Generates the report\n",
    "        self.add_page()\n",
    "        self.page_body(images)"
   ]
  },
  {
   "cell_type": "code",
   "execution_count": 10,
   "metadata": {},
   "outputs": [],
   "source": [
    "#pdf = PDF()\n",
    "#for elem in plots_per_page:\n",
    "#    pdf.print_page(elem)\n",
    "#    pdf.output('SalesRepot.pdf', 'F')"
   ]
  },
  {
   "cell_type": "code",
   "execution_count": null,
   "metadata": {},
   "outputs": [],
   "source": []
  },
  {
   "cell_type": "code",
   "execution_count": null,
   "metadata": {},
   "outputs": [],
   "source": []
  }
 ],
 "metadata": {
  "kernelspec": {
   "display_name": "Python 3",
   "language": "python",
   "name": "python3"
  },
  "language_info": {
   "codemirror_mode": {
    "name": "ipython",
    "version": 3
   },
   "file_extension": ".py",
   "mimetype": "text/x-python",
   "name": "python",
   "nbconvert_exporter": "python",
   "pygments_lexer": "ipython3",
   "version": "3.8.5"
  }
 },
 "nbformat": 4,
 "nbformat_minor": 4
}
